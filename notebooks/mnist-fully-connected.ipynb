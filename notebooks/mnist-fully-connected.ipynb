{
 "cells": [
  {
   "cell_type": "code",
   "execution_count": null,
   "id": "1e757fbd",
   "metadata": {},
   "outputs": [],
   "source": [
    "import sys\n",
    "import os"
   ]
  },
  {
   "cell_type": "code",
   "execution_count": null,
   "id": "7b1f5326",
   "metadata": {},
   "outputs": [],
   "source": [
    "sys.path.append(os.path.dirname(os.getcwd()))"
   ]
  },
  {
   "cell_type": "code",
   "execution_count": null,
   "id": "77d87e5f",
   "metadata": {},
   "outputs": [],
   "source": [
    "from src.deep_learning.datahandling.dataset import DataLoader, CSVImageDataset\n",
    "from src.deep_learning.optimizer.optimizer import Momentum\n",
    "from src.deep_learning.RGrad.transform import ReLUBlock, Flatten, Transform\n",
    "import src.deep_learning.RGrad.function\n",
    "from src.deep_learning.RGrad.function import cross_entropy"
   ]
  },
  {
   "cell_type": "code",
   "execution_count": null,
   "id": "d552a9d2",
   "metadata": {},
   "outputs": [],
   "source": [
    "import numpy as np\n",
    "import matplotlib.pyplot as plt\n",
    "from tqdm import tqdm"
   ]
  },
  {
   "cell_type": "code",
   "execution_count": null,
   "id": "85769b8f",
   "metadata": {},
   "outputs": [],
   "source": [
    "dataset_path = os.path.join(os.path.dirname(os.getcwd()), 'datasets')\n",
    "\n",
    "error_string = \"\"\"datasets not found. \n",
    "The train and test mnist datasets in csv form can be downloaded from: \n",
    "https://www.kaggle.com/datasets/oddrationale/mnist-in-csv?resource=download.\n",
    "They should be saved as mnist_train.csv and mnist_test.csv under the top-level datasets directory\"\"\"\n",
    "try:\n",
    "    mnist_train_dataset = CSVImageDataset(os.path.join(dataset_path, 'mnist_train.csv'), (28, 28))\n",
    "    mnist_test_dataset = CSVImageDataset(os.path.join(dataset_path, 'mnist_test.csv'), (28, 28))\n",
    "except FileNotFoundError:\n",
    "    raise FileNotFoundError(error_string)"
   ]
  },
  {
   "cell_type": "code",
   "execution_count": null,
   "id": "eb8db773",
   "metadata": {},
   "outputs": [],
   "source": [
    "batch_size = 16\n",
    "train_dataloader = DataLoader(mnist_train_dataset, 16, shuffle=True)\n",
    "test_dataloader = DataLoader(mnist_test_dataset, 16, shuffle=False)"
   ]
  },
  {
   "cell_type": "code",
   "execution_count": null,
   "id": "57b6e6cf",
   "metadata": {},
   "outputs": [],
   "source": [
    "class MLP(Transform):\n",
    "\n",
    "    def __init__(self):\n",
    "        self.flatten = Flatten()\n",
    "        self.relu1 = ReLUBlock(784, 60)\n",
    "        self.relu2 = ReLUBlock(60, 60)\n",
    "        self.relu3 = ReLUBlock(60, 10)\n",
    "    \n",
    "    def __call__(self, inpt):\n",
    "        return self.relu3(self.relu2(self.relu1(self.flatten(inpt))))"
   ]
  },
  {
   "cell_type": "code",
   "execution_count": null,
   "id": "4acf0c50",
   "metadata": {},
   "outputs": [],
   "source": [
    "model = MLP()\n",
    "optimizer = Momentum(model.params(), 0.9, 0.01)"
   ]
  },
  {
   "cell_type": "code",
   "execution_count": null,
   "id": "15638d10",
   "metadata": {},
   "outputs": [],
   "source": [
    "def get_accuracy(model, dataloader):\n",
    "    num_right = 0\n",
    "    num_wrong = 0\n",
    "    for inpt, labels in dataloader:\n",
    "        logits = model(inpt)\n",
    "        predictions = np.argmax(logits.elems, axis=1)\n",
    "        num_right_batch = np.sum(predictions==labels.elems)\n",
    "        num_right += num_right_batch\n",
    "        num_wrong += (len(predictions) - num_right_batch)\n",
    "    return num_right/(num_right+num_wrong), num_right, num_wrong"
   ]
  },
  {
   "cell_type": "code",
   "execution_count": null,
   "id": "d8e128a7",
   "metadata": {},
   "outputs": [],
   "source": [
    "accuracy, num_right, num_wrong = get_accuracy(model, test_dataloader)\n",
    "print(f'accuracy: {accuracy}')"
   ]
  },
  {
   "cell_type": "code",
   "execution_count": null,
   "id": "9a9b8b97",
   "metadata": {},
   "outputs": [],
   "source": [
    "losses = []\n",
    "\n",
    "pbar = tqdm(total=mnist_train_dataset.num_datapoints()//batch_size)\n",
    "for inpt, labels in train_dataloader:\n",
    "    logits = model(inpt)\n",
    "    loss = cross_entropy(logits, labels)\n",
    "    loss.backward()\n",
    "    losses.append(loss.elems)\n",
    "    optimizer.update()\n",
    "    loss.zero_grads()\n",
    "    pbar.update(1)"
   ]
  },
  {
   "cell_type": "code",
   "execution_count": null,
   "id": "5434120f",
   "metadata": {},
   "outputs": [],
   "source": [
    "test_accuracy, num_right, num_wrong = get_accuracy(model, test_dataloader)\n",
    "train_accuracy, num_right, num_wrong = get_accuracy(model, train_dataloader)\n",
    "print(f'test accuracy: {test_accuracy}')\n",
    "print(f'train accuracy: {train_accuracy}')"
   ]
  },
  {
   "cell_type": "code",
   "execution_count": null,
   "id": "0746482f",
   "metadata": {},
   "outputs": [],
   "source": [
    "averaged_losses = [sum(losses[index-9:index+1])/10 if index >= 9 else sum(losses[:index+1])/(index+1) for index, loss in enumerate(losses)]\n",
    "plt.plot(np.arange(len(losses)), averaged_losses)\n",
    "plt.xlabel('batch number')\n",
    "plt.ylabel('size 10 moving average batch loss')"
   ]
  },
  {
   "cell_type": "code",
   "execution_count": null,
   "id": "38aab7f6",
   "metadata": {},
   "outputs": [],
   "source": []
  }
 ],
 "metadata": {
  "kernelspec": {
   "display_name": "Python 3 (ipykernel)",
   "language": "python",
   "name": "python3"
  },
  "language_info": {
   "codemirror_mode": {
    "name": "ipython",
    "version": 3
   },
   "file_extension": ".py",
   "mimetype": "text/x-python",
   "name": "python",
   "nbconvert_exporter": "python",
   "pygments_lexer": "ipython3",
   "version": "3.10.9"
  },
  "vscode": {
   "interpreter": {
    "hash": "dd0553654488318308af652034b43cf80d506e1afda6e6b981456492341b7bb6"
   }
  }
 },
 "nbformat": 4,
 "nbformat_minor": 5
}
