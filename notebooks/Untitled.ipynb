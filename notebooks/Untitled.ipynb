{
 "cells": [
  {
   "cell_type": "code",
   "execution_count": 7,
   "id": "77d87e5f",
   "metadata": {},
   "outputs": [],
   "source": [
    "from src.deep_learning.datahandling.dataset import DataLoader, CSVImageDataset\n",
    "from src.deep_learning.optimizer.optimizer import Momentum\n",
    "from src.deep_learning.RGrad.transform import ReLUBlock, Flatten, Transform\n",
    "import src.deep_learning.RGrad.function\n",
    "from src.deep_learning.RGrad.function import cross_entropy\n",
    "from tqdm import tqdm"
   ]
  },
  {
   "cell_type": "code",
   "execution_count": 2,
   "id": "d552a9d2",
   "metadata": {},
   "outputs": [],
   "source": [
    "import numpy as np\n",
    "import importlib"
   ]
  },
  {
   "cell_type": "code",
   "execution_count": 3,
   "id": "85769b8f",
   "metadata": {},
   "outputs": [],
   "source": [
    "mnist_train_dataset = CSVImageDataset('/home/william/Documents/ML_Projects/AlgorithmsFFP/datasets/mnist_train.csv', (28, 28))\n",
    "mnist_test_dataset = CSVImageDataset('/home/william/Documents/ML_Projects/AlgorithmsFFP/datasets/mnist_test.csv', (28, 28))"
   ]
  },
  {
   "cell_type": "code",
   "execution_count": 4,
   "id": "eb8db773",
   "metadata": {},
   "outputs": [],
   "source": [
    "train_dataloader = DataLoader(mnist_train_dataset, 16, shuffle=True)\n",
    "test_dataloader = DataLoader(mnist_test_dataset, 16, shuffle=False)"
   ]
  },
  {
   "cell_type": "code",
   "execution_count": 5,
   "id": "57b6e6cf",
   "metadata": {},
   "outputs": [],
   "source": [
    "class MLP(Transform):\n",
    "\n",
    "    def __init__(self):\n",
    "        self.flatten = Flatten()\n",
    "        self.relu1 = ReLUBlock(784, 60)\n",
    "        self.relu2 = ReLUBlock(60, 60)\n",
    "        self.relu3 = ReLUBlock(60, 10)\n",
    "    \n",
    "    def __call__(self, inpt):\n",
    "        return self.relu3(self.relu2(self.relu1(self.flatten(inpt))))"
   ]
  },
  {
   "cell_type": "code",
   "execution_count": 9,
   "id": "4acf0c50",
   "metadata": {},
   "outputs": [],
   "source": [
    "model = MLP()\n",
    "optimizer = Momentum(model.params(), 0.9, 0.01)"
   ]
  },
  {
   "cell_type": "code",
   "execution_count": 10,
   "id": "15638d10",
   "metadata": {},
   "outputs": [],
   "source": [
    "def accuracy(model, dataloader):\n",
    "    num_right = 0\n",
    "    num_wrong = 0\n",
    "    for inpt, labels in dataloader:\n",
    "        logits = model(inpt)\n",
    "        predictions = np.argmax(logits.elems, axis=1)\n",
    "        num_right_batch = np.sum(predictions==labels.elems)\n",
    "        num_right += num_right_batch\n",
    "        num_wrong += (len(predictions) - num_right_batch)\n",
    "    return num_right, num_wrong"
   ]
  },
  {
   "cell_type": "code",
   "execution_count": 11,
   "id": "d8e128a7",
   "metadata": {},
   "outputs": [
    {
     "name": "stdout",
     "output_type": "stream",
     "text": [
      "acc: 0.1001\n"
     ]
    }
   ],
   "source": [
    "num_right, num_wrong = accuracy(model, test_dataloader)\n",
    "print(f'acc: {num_right/(num_right + num_wrong)}')"
   ]
  },
  {
   "cell_type": "code",
   "execution_count": 13,
   "id": "7b97e1a0",
   "metadata": {},
   "outputs": [
    {
     "data": {
      "text/plain": [
       "3750"
      ]
     },
     "execution_count": 13,
     "metadata": {},
     "output_type": "execute_result"
    }
   ],
   "source": [
    "len(mnist_train_dataset.datapoints)//16"
   ]
  },
  {
   "cell_type": "code",
   "execution_count": 15,
   "id": "9a9b8b97",
   "metadata": {},
   "outputs": [
    {
     "name": "stdout",
     "output_type": "stream",
     "text": [
      "0\n",
      "100\n",
      "200\n",
      "300\n",
      "400\n",
      "500\n",
      "600\n",
      "700\n",
      "800\n",
      "900\n",
      "1000\n",
      "1100\n",
      "1200\n",
      "1300\n",
      "1400\n",
      "1500\n",
      "1600\n",
      "1700\n",
      "1800\n",
      "1900\n",
      "2000\n",
      "2100\n",
      "2200\n",
      "2300\n",
      "2400\n",
      "2500\n",
      "2600\n",
      "2700\n",
      "2800\n",
      "2900\n",
      "3000\n",
      "3100\n",
      "3200\n",
      "3300\n",
      "3400\n",
      "3500\n",
      "3600\n",
      "3700\n"
     ]
    }
   ],
   "source": [
    "losses = []\n",
    "batch_num = 0\n",
    "for inpt, labels in train_dataloader:\n",
    "    if batch_num % 100 == 0:\n",
    "        print(batch_num)\n",
    "    logits = model(inpt)\n",
    "    loss = cross_entropy(logits, labels)\n",
    "    loss.backward()\n",
    "    losses.append(loss.elems)\n",
    "    optimizer.update()\n",
    "    loss.zero_grads()\n",
    "    batch_num += 1"
   ]
  },
  {
   "cell_type": "code",
   "execution_count": 34,
   "id": "1c82e8aa",
   "metadata": {},
   "outputs": [
    {
     "data": {
      "text/plain": [
       "array([[0.79225542, 0.92685544],\n",
       "       [0.31656808, 0.21713027]])"
      ]
     },
     "execution_count": 34,
     "metadata": {},
     "output_type": "execute_result"
    }
   ],
   "source": [
    "np.random.uniform(0, 1, size=(2, 2))"
   ]
  },
  {
   "cell_type": "code",
   "execution_count": 16,
   "id": "5434120f",
   "metadata": {},
   "outputs": [
    {
     "name": "stdout",
     "output_type": "stream",
     "text": [
      "acc: 0.8518\n"
     ]
    }
   ],
   "source": [
    "num_right, num_wrong = accuracy(model, test_dataloader)\n",
    "print(f'acc: {num_right/(num_right + num_wrong)}')"
   ]
  },
  {
   "cell_type": "code",
   "execution_count": 17,
   "id": "0746482f",
   "metadata": {},
   "outputs": [
    {
     "name": "stdout",
     "output_type": "stream",
     "text": [
      "acc: 0.85025\n"
     ]
    }
   ],
   "source": [
    "num_right, num_wrong = accuracy(model, train_dataloader)\n",
    "print(f'acc: {num_right/(num_right + num_wrong)}')"
   ]
  },
  {
   "cell_type": "code",
   "execution_count": null,
   "id": "38aab7f6",
   "metadata": {},
   "outputs": [],
   "source": []
  }
 ],
 "metadata": {
  "kernelspec": {
   "display_name": "Python 3.9.7 ('GenericML')",
   "language": "python",
   "name": "python3"
  },
  "language_info": {
   "codemirror_mode": {
    "name": "ipython",
    "version": 3
   },
   "file_extension": ".py",
   "mimetype": "text/x-python",
   "name": "python",
   "nbconvert_exporter": "python",
   "pygments_lexer": "ipython3",
   "version": "3.9.7"
  },
  "vscode": {
   "interpreter": {
    "hash": "dd0553654488318308af652034b43cf80d506e1afda6e6b981456492341b7bb6"
   }
  }
 },
 "nbformat": 4,
 "nbformat_minor": 5
}
